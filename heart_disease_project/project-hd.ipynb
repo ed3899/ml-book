{
 "cells": [
  {
   "cell_type": "markdown",
   "metadata": {},
   "source": [
    "# Predicting heart disease using ML\n",
    "This notebook looks into various python based ml and data science libs in an attempt to build a ml model capable of predicting wheter or not someone has heart disease based on their medical attributes"
   ]
  }
 ],
 "metadata": {
  "language_info": {
   "name": "python"
  },
  "orig_nbformat": 4
 },
 "nbformat": 4,
 "nbformat_minor": 2
}
